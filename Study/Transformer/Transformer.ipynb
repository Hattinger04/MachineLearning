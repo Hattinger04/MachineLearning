{
 "cells": [
  {
   "cell_type": "markdown",
   "metadata": {},
   "source": [
    "# Transformer from scratch\n",
    "\n",
    "Understanding transformers with the tutorial of Umar Jamil: https://www.youtube.com/watch?v=bCz4OMemCcA\n",
    "\n",
    "Coding a transformer from scratch with the tutorial of Umar Jamil: https://www.youtube.com/watch?v=ISNdQcPhsts\n",
    "\n",
    "Later also scaling transformoers to a billion tokens with the tutorial of Umar Jamil: https://www.youtube.com/watch?v=nC2nU9j9DVQ"
   ]
  }
 ],
 "metadata": {
  "kernelspec": {
   "display_name": "ai",
   "language": "python",
   "name": "python3"
  },
  "language_info": {
   "codemirror_mode": {
    "name": "ipython",
    "version": 3
   },
   "file_extension": ".py",
   "mimetype": "text/x-python",
   "name": "python",
   "nbconvert_exporter": "python",
   "pygments_lexer": "ipython3",
   "version": "3.8.0"
  }
 },
 "nbformat": 4,
 "nbformat_minor": 2
}
