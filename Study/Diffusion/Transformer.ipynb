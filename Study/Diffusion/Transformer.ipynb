{
 "cells": [
  {
   "cell_type": "markdown",
   "metadata": {},
   "source": [
    "# Transformer from scratch\n",
    "\n",
    "Understanding transformers with the tutorial of Umar Jamil: https://www.youtube.com/watch?v=bCz4OMemCcA\n",
    "\n",
    "Coding a transformer from scratch with the tutorial of Umar Jamil: https://www.youtube.com/watch?v=ISNdQcPhsts\n",
    "\n",
    "Later also scaling transformoers to a billion tokens with the tutorial of Umar Jamil: https://www.youtube.com/watch?v=nC2nU9j9DVQ"
   ]
  },
  {
   "cell_type": "code",
   "execution_count": null,
   "metadata": {
    "vscode": {
     "languageId": "plaintext"
    }
   },
   "outputs": [],
   "source": []
  }
 ],
 "metadata": {
  "language_info": {
   "name": "python"
  }
 },
 "nbformat": 4,
 "nbformat_minor": 2
}
