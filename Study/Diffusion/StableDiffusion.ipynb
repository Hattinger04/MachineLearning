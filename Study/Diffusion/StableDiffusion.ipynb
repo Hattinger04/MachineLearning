{
 "cells": [
  {
   "cell_type": "markdown",
   "metadata": {},
   "source": [
    "# Stable Diffusion\n",
    "\n",
    "Learning how to code a Stable Diffusion model with a YouTube tutorial by Umar Jamil: https://www.youtube.com/watch?v=ZBKpAp_6TGI"
   ]
  }
 ],
 "metadata": {
  "language_info": {
   "name": "python"
  }
 },
 "nbformat": 4,
 "nbformat_minor": 2
}
