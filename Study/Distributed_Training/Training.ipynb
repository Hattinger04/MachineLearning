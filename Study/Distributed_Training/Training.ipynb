{
 "cells": [
  {
   "cell_type": "markdown",
   "metadata": {},
   "source": [
    "# Distributed Training with PyTorch\n",
    "\n",
    "Learning how to train better and faster in PyTorch with the tutorial of Umar Jamil: https://www.youtube.com/watch?v=toUSzwR0EV8\n"
   ]
  }
 ],
 "metadata": {
  "language_info": {
   "name": "python"
  }
 },
 "nbformat": 4,
 "nbformat_minor": 2
}
