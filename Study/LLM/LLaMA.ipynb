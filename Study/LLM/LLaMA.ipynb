{
 "cells": [
  {
   "cell_type": "markdown",
   "metadata": {},
   "source": [
    "# LLaMA from scratch\n",
    "\n",
    "Understanding LLaMA model with the tutorial of Umar Jamil: https://www.youtube.com/watch?v=Mn_9W1nCFLo\n",
    "\n",
    "Coding LLaMA 2 from scratch with the tutorial of Umar Jamil: https://www.youtube.com/watch?v=oM4VmoabDAI"
   ]
  }
 ],
 "metadata": {
  "language_info": {
   "name": "python"
  }
 },
 "nbformat": 4,
 "nbformat_minor": 2
}
