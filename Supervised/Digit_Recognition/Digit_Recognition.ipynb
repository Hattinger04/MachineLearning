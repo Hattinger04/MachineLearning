{
  "nbformat": 4,
  "nbformat_minor": 0,
  "metadata": {
    "colab": {
      "provenance": [],
      "collapsed_sections": [
        "JYW8jcf6UZpM",
        "u2kMt_fAOG2o",
        "4W6ibsccQJUW",
        "KiKKpQ8BV14j",
        "jrcDnFxuT2WU",
        "yDJLKOlI0CoO",
        "OHmKfhGL0IJe",
        "wp2OFGMR-JSw"
      ],
      "gpuType": "T4",
      "authorship_tag": "ABX9TyNGXlvFBkLbWIn6y06EDFib",
      "include_colab_link": true
    },
    "kernelspec": {
      "name": "python3",
      "display_name": "Python 3"
    },
    "language_info": {
      "name": "python"
    },
    "accelerator": "GPU"
  },
  "cells": [
    {
      "cell_type": "markdown",
      "metadata": {
        "id": "view-in-github",
        "colab_type": "text"
      },
      "source": [
        "<a href=\"https://colab.research.google.com/github/Hattinger04/KerasProjects/blob/master/Digit_Recognition/Digit_Recognition.ipynb\" target=\"_parent\"><img src=\"https://colab.research.google.com/assets/colab-badge.svg\" alt=\"Open In Colab\"/></a>"
      ]
    },
    {
      "cell_type": "markdown",
      "source": [
        "# Project: Digit Recognition\n",
        "Dataset: MNISTs Digit Recognition Dataset\\\n",
        "Solution with Convolutional Neural Networks (CNN)"
      ],
      "metadata": {
        "id": "mcqIoVkYN7F4"
      }
    },
    {
      "cell_type": "markdown",
      "source": [
        "##   Managing Imports"
      ],
      "metadata": {
        "id": "JYW8jcf6UZpM"
      }
    },
    {
      "cell_type": "code",
      "execution_count": 142,
      "metadata": {
        "id": "HF0bLUQ9LVdP"
      },
      "outputs": [],
      "source": [
        "# libraries to analyse and format data:\n",
        "import numpy as np\n",
        "import pandas as pd\n",
        "\n",
        "# installing library without textoutput (we probably won't need this library but it's still nice to know of its existance)\n",
        "%pip install pandas_profiling --quiet\n",
        "import pandas_profiling as pp\n",
        "\n",
        "# library to convert images to arrays and vice versa\n",
        "from PIL import Image\n",
        "\n",
        "# library to create graphs\n",
        "import matplotlib.pyplot as plt\n",
        "\n",
        "# libraries to visualize later results\n",
        "import seaborn as sns\n",
        "from sklearn.metrics import confusion_matrix\n",
        "\n",
        "# libraries for developing an neural network\n",
        "from keras.backend import argmax\n",
        "from keras.models import load_model\n",
        "from keras.utils import to_categorical\n",
        "from keras.models import Sequential\n",
        "from keras.layers import Dense, Conv2D, BatchNormalization, SpatialDropout2D, MaxPooling2D, Flatten, Dropout\n",
        "from keras.datasets import mnist # get dataset from keras library"
      ]
    },
    {
      "cell_type": "markdown",
      "source": [
        "## Importing needed data\n",
        "\n"
      ],
      "metadata": {
        "id": "u2kMt_fAOG2o"
      }
    },
    {
      "cell_type": "markdown",
      "source": [
        "\n",
        "Here we will differentiate between train and test sets and between x and y:\n",
        "\n",
        "*   The train set is a list of images with which we will train our network\n",
        "*   The test set is also a list of images with which we will check our network regarding accuracy and loss though\n",
        "*   An \"X\" set is a set, which will be given to the network\n",
        "*   An \"Y\" set is the solution of the prediction to the refering object in the X set"
      ],
      "metadata": {
        "id": "L80eU9hPUVm4"
      }
    },
    {
      "cell_type": "code",
      "source": [
        "(x_train, y_train), (x_test, y_test) = mnist.load_data()"
      ],
      "metadata": {
        "id": "9X9zZlHEP16q"
      },
      "execution_count": 125,
      "outputs": []
    },
    {
      "cell_type": "markdown",
      "source": [
        "## Analyse imported data"
      ],
      "metadata": {
        "id": "4W6ibsccQJUW"
      }
    },
    {
      "cell_type": "code",
      "source": [
        "number_classes = 10 # numbers between 0 and 9\n",
        "\n",
        "labels = np.arange(0,10).astype(str) # create the labels"
      ],
      "metadata": {
        "id": "BcU1KCX4WGIN",
        "colab": {
          "base_uri": "https://localhost:8080/"
        },
        "outputId": "caf2301a-27b9-494c-e2d5-c3d44c1f3cde"
      },
      "execution_count": 148,
      "outputs": [
        {
          "output_type": "execute_result",
          "data": {
            "text/plain": [
              "array(['0', '1', '2', '3', '4', '5', '6', '7', '8', '9'], dtype='<U21')"
            ]
          },
          "metadata": {},
          "execution_count": 148
        }
      ]
    },
    {
      "cell_type": "code",
      "source": [
        "# Dimension des Arrays ansehen\n",
        "x_train.shape"
      ],
      "metadata": {
        "colab": {
          "base_uri": "https://localhost:8080/"
        },
        "id": "9vHL8SuQQDG8",
        "outputId": "60ca21c5-3725-4960-f22c-5434a138a711"
      },
      "execution_count": 127,
      "outputs": [
        {
          "output_type": "execute_result",
          "data": {
            "text/plain": [
              "(60000, 28, 28)"
            ]
          },
          "metadata": {},
          "execution_count": 127
        }
      ]
    },
    {
      "cell_type": "markdown",
      "source": [
        "Explanation of this \"weird\" shape:\n",
        "\n",
        "\n",
        "*   60000: number of entries / images\n",
        "*   28, 28: The size of the image"
      ],
      "metadata": {
        "id": "Nw-6tLEhR10j"
      }
    },
    {
      "cell_type": "code",
      "source": [
        "# creating variable for image shape\n",
        "IMAGE_SHAPE = (x_train.shape[1], x_train.shape[2], 1) # 1 because these images are not rgb but only grey values\n",
        "IMAGE_SHAPE"
      ],
      "metadata": {
        "colab": {
          "base_uri": "https://localhost:8080/"
        },
        "id": "PC3BeECsVQ5p",
        "outputId": "ff443c36-18ba-437e-de1f-ad6a8514f5f4"
      },
      "execution_count": 128,
      "outputs": [
        {
          "output_type": "execute_result",
          "data": {
            "text/plain": [
              "(28, 28, 1)"
            ]
          },
          "metadata": {},
          "execution_count": 128
        }
      ]
    },
    {
      "cell_type": "code",
      "source": [
        "# View an example of the dataset:\n",
        "Image.fromarray(x_train[0])"
      ],
      "metadata": {
        "colab": {
          "base_uri": "https://localhost:8080/",
          "height": 45
        },
        "id": "CnB2414iQY99",
        "outputId": "72726890-c2ad-4ccb-c790-1c13abd47b2e"
      },
      "execution_count": 129,
      "outputs": [
        {
          "output_type": "execute_result",
          "data": {
            "text/plain": [
              "<PIL.Image.Image image mode=L size=28x28 at 0x7FAA49D03190>"
            ],
            "image/png": "[encoded data removed]"
          },
          "metadata": {},
          "execution_count": 129
        }
      ]
    },
    {
      "cell_type": "code",
      "source": [
        "# print the label to this image -> which is the value our model should predict in the future:\n",
        "y_train[0]"
      ],
      "metadata": {
        "colab": {
          "base_uri": "https://localhost:8080/"
        },
        "id": "zQDDa4SeSbIp",
        "outputId": "97379953-27e5-46b7-b87c-b9f74e8c7c69"
      },
      "execution_count": 130,
      "outputs": [
        {
          "output_type": "execute_result",
          "data": {
            "text/plain": [
              "5"
            ]
          },
          "metadata": {},
          "execution_count": 130
        }
      ]
    },
    {
      "cell_type": "markdown",
      "source": [
        "## Format the data"
      ],
      "metadata": {
        "id": "KiKKpQ8BV14j"
      }
    },
    {
      "cell_type": "code",
      "source": [
        "# do one-hot encoding: when having multiple classification, you must use one-hot encoding (1 stands for the target, all other values are 0)\n",
        "# therefore we need to transform our labels from a one-dimensional array to a number_of_classes-dimensional array, where the correct label is represented as a 1 and all the others as a zero\n",
        "print(y_train.shape)\n",
        "y_train = to_categorical(y_train, number_classes)\n",
        "y_test_untouched = y_test.copy() # we will need these later for visualization of the data\n",
        "y_test = to_categorical(y_test, number_classes)\n",
        "\n",
        "print(y_train.shape)"
      ],
      "metadata": {
        "colab": {
          "base_uri": "https://localhost:8080/"
        },
        "id": "RrbXVdKRvWyc",
        "outputId": "f5cf4be5-d495-45a6-aea6-ce2b5779f520"
      },
      "execution_count": 131,
      "outputs": [
        {
          "output_type": "stream",
          "name": "stdout",
          "text": [
            "(60000,)\n",
            "(60000, 10)\n"
          ]
        }
      ]
    },
    {
      "cell_type": "code",
      "source": [
        "# normalize the data by substracting the mean acitivity and diciding by their standard deviation\n",
        "# -> now we have much lower values in our array (easier for the neural network to handle -> otherwise slower)\n",
        "\n",
        "image_before = Image.fromarray(x_train[1])\n",
        "\n",
        "mean_px = x_train.mean().astype(np.float32)\n",
        "std_px = x_train.std().astype(np.float32)\n",
        "x_train = (x_train - mean_px)/(std_px)\n",
        "\n",
        "image_after = Image.fromarray((((x_train-x_train.min())/(x_train.max()-x_train.min())*255)[1]).astype(np.uint8)) # reversing this process for demonstration\n",
        "\n",
        "image_before.resize((128, 128), Image.ANTIALIAS).show()\n",
        "image_after.resize((128, 128), Image.ANTIALIAS).show()"
      ],
      "metadata": {
        "colab": {
          "base_uri": "https://localhost:8080/",
          "height": 273
        },
        "id": "Nk67zyBnWNNx",
        "outputId": "16fe0e8d-d55f-4a5c-e484-d528129574b8"
      },
      "execution_count": 132,
      "outputs": [
        {
          "output_type": "display_data",
          "data": {
            "text/plain": [
              "<PIL.Image.Image image mode=L size=128x128 at 0x7FAA49D024A0>"
            ],
            "image/png": "[encoded data removed]"
          },
          "metadata": {}
        },
        {
          "output_type": "display_data",
          "data": {
            "text/plain": [
              "<PIL.Image.Image image mode=L size=128x128 at 0x7FAA49D01E10>"
            ],
            "image/png": "[encoded data removed]"
          },
          "metadata": {}
        }
      ]
    },
    {
      "cell_type": "code",
      "source": [
        "# The same with our test set:\n",
        "\n",
        "image_before = Image.fromarray(x_test[1])\n",
        "\n",
        "mean_px = x_test.mean().astype(np.float32)\n",
        "std_px = x_test.std().astype(np.float32)\n",
        "x_test = (x_test - mean_px)/(std_px)\n",
        "\n",
        "image_after = Image.fromarray((((x_test-x_test.min())/(x_test.max()-x_test.min())*255)[1]).astype(np.uint8))\n",
        "\n",
        "image_before.resize((128, 128), Image.ANTIALIAS).show()\n",
        "image_after.resize((128, 128), Image.ANTIALIAS).show()"
      ],
      "metadata": {
        "colab": {
          "base_uri": "https://localhost:8080/",
          "height": 273
        },
        "id": "VHCQ0jzVZxwB",
        "outputId": "e030ded3-4118-4be7-8917-64121b28c68d"
      },
      "execution_count": 133,
      "outputs": [
        {
          "output_type": "display_data",
          "data": {
            "text/plain": [
              "<PIL.Image.Image image mode=L size=128x128 at 0x7FAAF002D7B0>"
            ],
            "image/png": "[encoded data removed]"
          },
          "metadata": {}
        },
        {
          "output_type": "display_data",
          "data": {
            "text/plain": [
              "<PIL.Image.Image image mode=L size=128x128 at 0x7FAA49D00580>"
            ],
            "image/png": "[encoded data removed]"
          },
          "metadata": {}
        }
      ]
    },
    {
      "cell_type": "markdown",
      "source": [
        "## Create the neural network"
      ],
      "metadata": {
        "id": "jrcDnFxuT2WU"
      }
    },
    {
      "cell_type": "code",
      "source": [
        "%%script false --no-raise-error\n",
        "model = Sequential() # layers in this model are attached to the following layer\n",
        "\n",
        "# in the first layer you must have an input_shape!\n",
        "\n",
        "# adding a convolutional layer with 32 filters (can be compared to the neurons in a ANN)\n",
        "# (1,1) is the kernel size which is the size of the 2D convolution window - must be an odd integer!\n",
        "#   the bigger the kernel size the faster you are learning (usage depending on size of image!)\n",
        "# set relu as the activation function\n",
        "model.add(Conv2D(32, (1,1), activation=\"relu\", input_shape=(IMAGE_SHAPE))) # adding a convolutional layer\n",
        "# batch normalization: normalizes each layer's inputs by using mean and variance of the values in the current batch\n",
        "# -> speeds up training (higher training rates possible) and makes it easier (easier weight initialization)\n",
        "model.add(BatchNormalization())\n",
        "\n",
        "\n",
        "# padding is used to guarantee that the input data has the size and shape which the model anticipates (filled with 0s)\n",
        "model.add(Conv2D(64, (3,3), activation=\"relu\", padding=\"same\"))\n",
        "model.add(BatchNormalization())\n",
        "# max pooling calculates the largest value in each patch of each feature map - makes the network much faster and efficient\n",
        "# more than (2,2) result in a great loss of data!\n",
        "model.add(MaxPooling2D((2, 2))) # input image now only half in size\n",
        "# with spatial dropout we randomly drop entire feature maps instead of individual elements\n",
        "#  (adjacent pixels within feature maps are normally strongly correlated -> regular dropout won't regularize the actiavtions)\n",
        "model.add(SpatialDropout2D(0.2))\n",
        "\n",
        "\n",
        "model.add(Conv2D(128, (3,3), activation=\"relu\", padding=\"same\"))\n",
        "model.add(BatchNormalization())\n",
        "\n",
        "# flatten makes two-dimensional array into a one-dimensional array\n",
        "model.add(Flatten())\n",
        "# dropout drops some layer outputs at random during training to avoid overfitting\n",
        "#  (avoid redundance details of inputs and the network can't rely on one input - it might be dropped out)\n",
        "model.add(Dropout(0.25))\n",
        "model.add(Dense(64, activation=\"relu\"))\n",
        "model.add(Dense(number_classes, activation=\"softmax\")) # output layer!\n",
        "\n",
        "model.summary()"
      ],
      "metadata": {
        "id": "KQF2GgTEUAWF"
      },
      "execution_count": 134,
      "outputs": []
    },
    {
      "cell_type": "code",
      "source": [
        "# Compiling the models\n",
        "\n",
        "# loss is the value of how wrong the network has been\n",
        "# the optimizer is the function how the network \"learns\" by using the calculated loss\n",
        "# the metrics are to judge the performance of the model but are not used in training\n",
        "model.compile(loss=\"categorical_crossentropy\", optimizer=\"adam\", metrics=[\"accuracy\"])"
      ],
      "metadata": {
        "id": "vQDLCvMAr-4X"
      },
      "execution_count": 135,
      "outputs": []
    },
    {
      "cell_type": "markdown",
      "source": [
        "## Train the neural network\n"
      ],
      "metadata": {
        "id": "yDJLKOlI0CoO"
      }
    },
    {
      "cell_type": "code",
      "source": [
        "%%script false --no-raise-error\n",
        "\n",
        "# the batch size is the number of samples processed before the model is updated\n",
        "#   (e.g.: many points are added to a coordinate system at once and then a linear function to describe these points will be set)\n",
        "batch_size = 64\n",
        "# epochs are synonym to the iterations the network will iterate through all the training data\n",
        "epochs = 5\n",
        "\n",
        "# now training the model:\n",
        "history = model.fit(x_train, y_train, batch_size=batch_size, epochs=epochs)"
      ],
      "metadata": {
        "id": "fehciPMvtYLj"
      },
      "execution_count": 136,
      "outputs": []
    },
    {
      "cell_type": "code",
      "source": [
        "metrics = history.history # get data to create a graph\n",
        "\n",
        "plt.figure(figsize=(16,6)) # create plot\n",
        "\n",
        "plt.subplot(1,2,1)\n",
        "plt.plot(history.epoch, metrics['loss'])\n",
        "plt.legend(['loss', 'val_loss'])\n",
        "plt.ylim([0, max(plt.ylim())])\n",
        "plt.xlabel('Epoch')\n",
        "plt.ylabel('Loss [CrossEntropy]')\n",
        "\n",
        "plt.subplot(1,2,2)\n",
        "plt.plot(history.epoch, 100*np.array(metrics['accuracy']))\n",
        "plt.legend(['accuracy', 'val_accuracy'])\n",
        "plt.ylim([0, 100])\n",
        "plt.xlabel('Epoch')\n",
        "plt.ylabel('Accuracy [%]')"
      ],
      "metadata": {
        "colab": {
          "base_uri": "https://localhost:8080/",
          "height": 126
        },
        "id": "tRmN0ZH7yFaY",
        "outputId": "d9b15ecd-5556-448c-e570-c38d46c0193b"
      },
      "execution_count": 137,
      "outputs": [
        {
          "output_type": "execute_result",
          "data": {
            "text/plain": [
              "Text(0, 0.5, 'Accuracy [%]')"
            ]
          },
          "metadata": {},
          "execution_count": 137
        },
        {
          "output_type": "display_data",
          "data": {
            "text/plain": [
              "<Figure size 1600x600 with 2 Axes>"
            ],
            "image/png": "[encoded data removed]"
          },
          "metadata": {}
        }
      ]
    },
    {
      "cell_type": "markdown",
      "source": [
        "## Test the neural network"
      ],
      "metadata": {
        "id": "OHmKfhGL0IJe"
      }
    },
    {
      "cell_type": "code",
      "source": [
        "# evaluate the model by testing it on the test set\n",
        "score = model.evaluate(x_test, y_test)"
      ],
      "metadata": {
        "colab": {
          "base_uri": "https://localhost:8080/"
        },
        "id": "l1zaSevwzfO5",
        "outputId": "95da3ffb-71d7-4092-8278-dd6ec187e569"
      },
      "execution_count": 138,
      "outputs": [
        {
          "output_type": "stream",
          "name": "stdout",
          "text": [
            "313/313 [==============================] - 2s 4ms/step - loss: 0.0450 - accuracy: 0.9863\n"
          ]
        }
      ]
    },
    {
      "cell_type": "code",
      "source": [
        "# show one example from the test set (using the first one):\n",
        "image_after.resize((128, 128), Image.ANTIALIAS).show()\n",
        "\n",
        "print(\"Correct label: \", labels[np.argmax(y_test[1])]) # image_after is the image at index 1 in the test set\n",
        "\n",
        "# prediction:\n",
        "# prepare image:\n",
        "testimage = x_test[1].copy()\n",
        "testimage = np.expand_dims(testimage, axis=0) # add the feature as dim to array\n",
        "prediction = model.predict(testimage)\n",
        "\n",
        "print(\"Predicted percentages: \", prediction)\n",
        "print(\"Predicted label: \", labels[np.argmax(prediction)])"
      ],
      "metadata": {
        "colab": {
          "base_uri": "https://localhost:8080/",
          "height": 234
        },
        "id": "8nl9lQLaz4G7",
        "outputId": "fea0c70a-2e95-4e37-dff0-82ad46003194"
      },
      "execution_count": 151,
      "outputs": [
        {
          "output_type": "display_data",
          "data": {
            "text/plain": [
              "<PIL.Image.Image image mode=L size=128x128 at 0x7FAA78439030>"
            ],
            "image/png": "[encoded data removed]"
          },
          "metadata": {}
        },
        {
          "output_type": "stream",
          "name": "stdout",
          "text": [
            "Correct label:  2\n",
            "1/1 [==============================] - 0s 35ms/step\n",
            "Predicted percentages:  [[1.9566068e-14 9.2780887e-11 1.0000000e+00 1.9180355e-13 8.7423075e-16\n",
            "  2.6756246e-14 4.5021170e-10 1.5822074e-10 4.0346593e-12 1.0425915e-16]]\n",
            "Predicted label:  2\n"
          ]
        }
      ]
    },
    {
      "cell_type": "code",
      "source": [
        "# create a heatmap by using a confusion matrix\n",
        "y_pred = model.predict(x_test)\n",
        "y_pred = argmax(y_pred) # get the predicted value\n",
        "confusion_mtx =  confusion_matrix(y_test_untouched, y_pred)\n",
        "plt.figure(figsize=(10, 8))\n",
        "sns.heatmap(confusion_mtx,\n",
        "            xticklabels=labels,\n",
        "            yticklabels=labels,\n",
        "            annot=True, fmt='g')\n",
        "plt.xlabel('Prediction')\n",
        "plt.ylabel('Correct Label')\n",
        "plt.show()"
      ],
      "metadata": {
        "colab": {
          "base_uri": "https://localhost:8080/",
          "height": 714
        },
        "id": "4LxZttR7-G9B",
        "outputId": "a25b880a-1f99-4de2-8908-244fc35822cc"
      },
      "execution_count": 152,
      "outputs": [
        {
          "output_type": "stream",
          "name": "stdout",
          "text": [
            "313/313 [==============================] - 1s 2ms/step\n"
          ]
        },
        {
          "output_type": "display_data",
          "data": {
            "text/plain": [
              "<Figure size 1000x800 with 2 Axes>"
            ],
            "image/png": "[encoded data removed]"
          },
          "metadata": {}
        }
      ]
    },
    {
      "cell_type": "markdown",
      "source": [
        "## Save the neural network"
      ],
      "metadata": {
        "id": "wp2OFGMR-JSw"
      }
    },
    {
      "cell_type": "code",
      "source": [
        "# recommended format by keras => .keras\n",
        "model.save(\"digit_recognition.keras\")\n",
        "\n",
        "# loading the model (not needed here):\n",
        "new_model = load_model(\"digit_recognition.keras\")\n",
        "new_model.summary()"
      ],
      "metadata": {
        "id": "zIIN8uYd-M1-"
      },
      "execution_count": null,
      "outputs": []
    }
  ]
}